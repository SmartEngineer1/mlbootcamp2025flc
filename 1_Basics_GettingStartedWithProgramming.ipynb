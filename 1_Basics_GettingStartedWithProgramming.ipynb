{
  "nbformat": 4,
  "nbformat_minor": 0,
  "metadata": {
    "colab": {
      "provenance": [],
      "authorship_tag": "ABX9TyNBY3Lj2PZOXQi9slYTGAKV"
    },
    "kernelspec": {
      "name": "python3",
      "display_name": "Python 3"
    },
    "language_info": {
      "name": "python"
    }
  },
  "cells": [
    {
      "cell_type": "markdown",
      "source": [
        "# 1 - Basics\n",
        "## Getting Started With Programming\n",
        "\n"
      ],
      "metadata": {
        "id": "mAjb5HYN9Cbz"
      }
    },
    {
      "cell_type": "code",
      "execution_count": null,
      "metadata": {
        "id": "7qZ2mSD-83HG"
      },
      "outputs": [],
      "source": []
    }
  ]
}