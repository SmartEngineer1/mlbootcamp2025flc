{
  "nbformat": 4,
  "nbformat_minor": 0,
  "metadata": {
    "colab": {
      "provenance": [],
      "authorship_tag": "ABX9TyPonM2DFDhrZVgR2FuzhIVH",
      "include_colab_link": true
    },
    "kernelspec": {
      "name": "python3",
      "display_name": "Python 3"
    },
    "language_info": {
      "name": "python"
    }
  },
  "cells": [
    {
      "cell_type": "markdown",
      "metadata": {
        "id": "view-in-github",
        "colab_type": "text"
      },
      "source": [
        "<a href=\"https://colab.research.google.com/github/shashankbl/mlbootcamp2025flc/blob/main/1_Basics_GettingStartedWithProgramming.ipynb\" target=\"_parent\"><img src=\"https://colab.research.google.com/assets/colab-badge.svg\" alt=\"Open In Colab\"/></a>"
      ]
    },
    {
      "cell_type": "markdown",
      "source": [
        "# **1 - Basics**\n",
        "## **Getting Started With Programming**\n",
        "\n",
        "#### **Programming:**\n",
        "- Programming is the process of writing instructions that a computer can understand and execute.\n",
        "- It allows us to automate tasks, analyze data, and build software applications.\n",
        "\n",
        "\n",
        "#### **Typical steps in programming:**\n",
        "1. Define the Problem: Understand what needs to be solved.\n",
        "2. Plan the Solution: Outline the logic and steps required.\n",
        "3. Choose a Programming Language: Select the appropriate language for implementation.\n",
        "4. Write the Code: Implement the logic using the chosen programming language.\n",
        "5. Test the Code: Run and verify if the code produces the expected results.\n",
        "6. Debug and Fix Errors: Identify and correct any mistakes or unexpected behaviors.\n",
        "7. Optimize and Refactor: Improve the code for efficiency and maintainability.\n",
        "8. Deploy the Program: Make the program available for use.\n",
        "9. Maintain and Update: Regularly check and update the program as needed.\n",
        "\n",
        "\n",
        "#### **Writing and Running Code:**\n",
        "- A program is typically written in a text editor and executed using a compiler or interpreter, depending on the language.\n",
        "- Some languages (like Python) are interpreted, while others (like C++) require compilation.\n",
        "\n",
        "Read: https://www.freecodecamp.org/news/compiled-versus-interpreted-languages/\n",
        "\n",
        "\n",
        "#### **Debugging and Error Handling:**\n",
        "- Errors are common in programming. Debugging involves finding and fixing errors (bugs). Common types of errors include:\n",
        "  - Syntax Errors: Mistakes in the code structure.\n",
        "  - Logical Errors: The code runs but produces incorrect results.\n",
        "  - Runtime Errors: Issues that occur during program execution.\n",
        "\n",
        "#### **Best practices in programming:**\n",
        "1. Write Readable Code: Use meaningful variable names and comments.\n",
        "2. Follow the DRY Principle: Don't Repeat Yourself—reuse code through functions and modules.\n",
        "3. Test Your Code: Check for errors and edge cases before deploying a program.\n",
        "4. Use Version Control: Keep track of changes using tools like Git.\n",
        "5. Keep Functions and Modules Small: Ensure that functions perform a single task and keep code modular.\n",
        "6. Handle Errors Gracefully: Implement proper exception handling to prevent crashes.\n",
        "7. Optimize for Performance: Use efficient algorithms and data structures.\n",
        "8. Write Documentation: Maintain proper documentation to make the code understandable.\n",
        "9. Follow Coding Standards: Adhere to industry best practices and style guides.\n",
        "10. Continuously Learn and Improve: Stay updated with new programming trends and best practices.\n",
        "\n",
        "Read: https://peps.python.org/pep-0020/\n",
        "\n"
      ],
      "metadata": {
        "id": "mAjb5HYN9Cbz"
      }
    },
    {
      "cell_type": "markdown",
      "source": [
        "## **How can we started with Python with easy steps?**\n",
        "\n",
        "### **Tool for design and coding**\n",
        "Google Colab\n",
        "- https://colab.research.google.com/\n",
        "- Requires a free Google account\n",
        "- Upload this notebook (*.ipynb) to Google Colab to get started!\n",
        "\n",
        "\n",
        "### **Tool for version control**\n",
        "Github\n",
        "- https://github.com/\n",
        "- Create a free account using your Google email\n",
        "- Interactive tutorial: https://learngitbranching.js.org/\n"
      ],
      "metadata": {
        "id": "BYa26Bz9BvUa"
      }
    },
    {
      "cell_type": "markdown",
      "source": [
        "## More resources:\n",
        "\n",
        "Follow this detailed course for learning Python programming:\n",
        "\n",
        "**Python for Beginners - Full Course (Programming Tutorial) - freeCodeCamp.org**\n",
        "[https://www.youtube.com/watch?v=eWRfhZUzrAc]"
      ],
      "metadata": {
        "id": "uyQIY7yo_i6_"
      }
    }
  ]
}