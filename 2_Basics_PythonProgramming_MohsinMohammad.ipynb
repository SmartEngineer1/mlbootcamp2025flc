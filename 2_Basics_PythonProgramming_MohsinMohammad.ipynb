{
  "nbformat": 4,
  "nbformat_minor": 0,
  "metadata": {
    "colab": {
      "provenance": [],
      "toc_visible": true,
      "include_colab_link": true
    },
    "kernelspec": {
      "name": "python3",
      "display_name": "Python 3"
    },
    "language_info": {
      "name": "python"
    }
  },
  "cells": [
    {
      "cell_type": "markdown",
      "metadata": {
        "id": "view-in-github",
        "colab_type": "text"
      },
      "source": [
        "<a href=\"https://colab.research.google.com/github/SmartEngineer1/mlbootcamp2025flc/blob/main/2_Basics_PythonProgramming_MohsinMohammad.ipynb\" target=\"_parent\"><img src=\"https://colab.research.google.com/assets/colab-badge.svg\" alt=\"Open In Colab\"/></a>"
      ]
    },
    {
      "cell_type": "markdown",
      "source": [
        "# Personal Finance 101 with Python\n",
        "\n",
        "- Investing is crucial for wealth growth, financial security, and achieving long-term financial goals.\n",
        "- One of the biggest reasons to invest is the power of compounding, which allows your money to grow exponentially over time."
      ],
      "metadata": {
        "id": "BGhlVvcyZGWp"
      }
    },
    {
      "cell_type": "markdown",
      "source": [
        "### Understanding the Compounding Effect\n",
        "\n",
        "$$ A = P * \\left( 1 + \\frac{r}{n} \\right) ^{n*t}$$\n",
        "\n",
        "Where,\n",
        "\n",
        "- A  = Final amount\n",
        "- P  = Principal (initial investment)\n",
        "- r  = Annual interest rate (as a decimal)\n",
        "- n  = Times interest is compounded per year\n",
        "- t  = Time in years\n"
      ],
      "metadata": {
        "id": "zyYa0RR2L_8n"
      }
    },
    {
      "cell_type": "code",
      "execution_count": null,
      "metadata": {
        "id": "XrEjSeR5UQVl"
      },
      "outputs": [],
      "source": [
        "#@title Compound Interest Calculator\n",
        "\n",
        "#@markdown Enter the principal amount (P in $):\n",
        "principal = 1000 #@param {type:\"number\"}\n",
        "\n",
        "#@markdown Enter the annual interest rate as a percentage (r):\n",
        "interest_rate = 6 #@param {type:\"number\"}\n",
        "\n",
        "#@markdown Enter the number of times interest is compounded per year (n):\n",
        "compounding_frequency = 1 #@param {type:\"number\"}\n",
        "\n",
        "#@markdown Enter the number of years (t):\n",
        "years = 10 #@param {type:\"number\"}\n",
        "\n",
        "\n",
        "# Calculate compound interest\n",
        "# 1. Convert percentage into decimal\n",
        "interest_rate_decimal =\n",
        "\n",
        "\n",
        "# 2. Calculate the final amount (A)\n",
        "final_amount =\n",
        "\n",
        "\n",
        "# 3. Calculate the total interest earned\n",
        "total_interest =\n",
        "\n",
        "\n",
        "# Display the results\n",
        "print(\"Compound Interest Calculator Results:\")\n",
        "print(f\"Principal Amount: ${principal:.2f}\")\n",
        "print(f\"Annual Interest Rate: {interest_rate:.2f}%\")\n",
        "print(f\"Compounding Frequency: {compounding_frequency} times per year\")\n",
        "print(f\"Number of Years: {years}\")\n",
        "print(f\"Total Amount: ${final_amount:.2f}\")\n",
        "print(f\"Total Interest Earned: ${total_interest:.2f}\")\n"
      ]
    },
    {
      "cell_type": "markdown",
      "source": [
        "### Effect of starting principal (P)\n",
        "\n",
        "Write a function to calculate total amount and total interest earned for starting principal (P in $): 10, 50, 100, 500 and 1000. Assume r=5%, n=1 and t=5.\n",
        "\n",
        "Hint: Iterate over a list data structure containing 'P' values using a compound interest calculator function"
      ],
      "metadata": {
        "id": "ScJlnZfEbTUH"
      }
    },
    {
      "cell_type": "code",
      "source": [
        "# Calculate the effect of starting principal (more 'P')\n",
        "# Mohsin Mohammad\n",
        "def compound(p_list):\n",
        "    p_list = [10, 50, 100, 500, 1000]\n",
        "    for range in p_list:\n",
        "        final_amount = range * (1 + (0.05))^(5)\n",
        "        print(final_amount)\n"
      ],
      "metadata": {
        "id": "MICZ2cnDbrZg"
      },
      "execution_count": null,
      "outputs": []
    },
    {
      "cell_type": "markdown",
      "source": [
        "#### Write a simple conclusion on what the effect of starting principal (more 'P') is on a compounding interest investment?"
      ],
      "metadata": {
        "id": "BIcD3dEecSpq"
      }
    },
    {
      "cell_type": "code",
      "source": [
        "\n",
        "''' The starting principal(P) has on a compounding interest investment\n",
        "such as the bigger the number P, the bigger the Final Amount(A) is '''\n"
      ],
      "metadata": {
        "id": "gCpivos6chhj"
      },
      "execution_count": null,
      "outputs": []
    },
    {
      "cell_type": "markdown",
      "source": [
        "### Effect of starting early (more years of investing = more 't')\n",
        "\n",
        "Reuse the compounding interest calculator function above and determine the effect of more years of investing 't': 2yrs, 5yrs, 10yrs, 20yrs, 30yrs. Assume P=\\$100, r=5% and n=1."
      ],
      "metadata": {
        "id": "3Zi_t5Ftcsw1"
      }
    },
    {
      "cell_type": "code",
      "source": [
        "# Calculate the effect of starting early (more 't')\n",
        "\n",
        "def compoundtest(t_list):\n",
        "    t_list = [2, 5, 10, 20, 30]\n",
        "    for range in t_list:\n",
        "        final_amount = 100 * (1 + (0.05))^((1)(range))\n",
        "        print(final_amount)\n"
      ],
      "metadata": {
        "id": "a5jHCG7NdcBf"
      },
      "execution_count": null,
      "outputs": []
    },
    {
      "cell_type": "markdown",
      "source": [
        "#### Write a simple conclusion on what the effect of\n",
        "\n",
        "---\n",
        "\n",
        "starting early (more 't') is on a compounding interest investment?\n",
        "\n",
        "\n",
        "''' the effect of better t leads to a bigger number P, meaning a bigger Final Amount(A) '''"
      ],
      "metadata": {
        "id": "dkDFHmiNdosi"
      }
    },
    {
      "cell_type": "markdown",
      "source": [
        "### Effect of better rate of return (more 'r')\n",
        "\n",
        "Reuse the compounding interest calculator function above and determine the effect of better rate of return 'r': 2%, 5%, 8% and 10%. Assume P=$100, n=1 and t=5."
      ],
      "metadata": {
        "id": "b4HolM8adwzl"
      }
    },
    {
      "cell_type": "code",
      "source": [
        "# Calculate the effect of better rate of return (more 'r')\n",
        "\n",
        "def compoundr(r_list):\n",
        "    r_list = [0.02, 0.05, 0.08, 0.1]\n",
        "    for range in t_list:\n",
        "        final_amount = 100 * (1 + ((r)/1))^(5)\n",
        "        print(final_amount)\n"
      ],
      "metadata": {
        "id": "pbcjQ24Kew56"
      },
      "execution_count": null,
      "outputs": []
    },
    {
      "cell_type": "markdown",
      "source": [
        "#### Write a simple conclusion on what the effect of better\n",
        "\n",
        "---\n",
        "\n",
        "rate of return (more 'r') is on a compounding interest investment?\n",
        "\n",
        "''' the effect of better r leads to a bigger number P, meaning a bigger Final Amount(A) '''"
      ],
      "metadata": {
        "id": "q5ihxgcKez4g"
      }
    },
    {
      "cell_type": "markdown",
      "source": [
        "### What happens to a compounding interest investment if you also do recurring investment (adding fixed \\$ amount in a fixed time frequency into the principal 'P')"
      ],
      "metadata": {
        "id": "8RPUEsNYe7nw"
      }
    },
    {
      "cell_type": "code",
      "source": [
        "# Write a new python function that will also take a fixed recurring deposit 'rd' every month to calculate compounding interest\n",
        "\n",
        "def compoundfix(add):\n",
        "    final_amount = 100 * (1 + ((r)/1))^(5) + add\n",
        "    print(final_amount)\n",
        "\n",
        "''' it gets added interest more faster '''\n",
        "\n"
      ],
      "metadata": {
        "id": "PXVG53KdffHD"
      },
      "execution_count": null,
      "outputs": []
    },
    {
      "cell_type": "markdown",
      "source": [
        "#### What is the effect of disciplined investing using recurring deposits?\n",
        "\n",
        "Use the new compounding interest calculator with recurring investment to calculate the effect of disciplined investing. Assume P=$100, r=5%, n=12 (monthly compounding), t=5.\n",
        "\n",
        "Calculate for different 'rd' (in $): 0, 1, 5, 10, 50, 100"
      ],
      "metadata": {
        "id": "WoKmXBp3gaeN"
      }
    },
    {
      "cell_type": "code",
      "source": [
        "# Write code to calculate the final_amount (A) for recurring deposits into monthly compounding investment\n",
        "\n",
        "def compoundfixer(add_list):\n",
        "    add_list = [0, 1, 5, 10, 50 100]\n",
        "    while range in add_list:\n",
        "        final_amount = 100 * (1 + ((r)/1))^(5) + range\n",
        "        print(final_amount)\n",
        "\n",
        "\n"
      ],
      "metadata": {
        "id": "gz8NLxgzhHlU"
      },
      "execution_count": null,
      "outputs": []
    },
    {
      "cell_type": "markdown",
      "source": [
        "#### Write a simple conclusion on what is the effect of disciplined investing using recurring deposits?\n",
        "\n",
        "''' Using the recurring deposits, the final_amount is increasing at a much higher rate.'''"
      ],
      "metadata": {
        "id": "HzaDkeEmhRTd"
      }
    },
    {
      "cell_type": "markdown",
      "source": [
        "*italicized text*### What problems/decisions that you face in life can be solved using basic Python programming? Share atleast two ideas.\n",
        "\n",
        "''' it helps to build websites and compute functions like the fibonacci sequence/recursion '''\n",
        "\n"
      ],
      "metadata": {
        "id": "V1SICqGdi3bu"
      }
    },
    {
      "cell_type": "markdown",
      "source": [
        "# Final Retrospection:\n",
        "### What challenges did you face while programming with Python?\n",
        "\n",
        "\n",
        "### How did you overcome those challenges?\n",
        "\n",
        "\n",
        "\n",
        "### Mention other resources you used to solve this take-home assignment\n",
        "\n",
        "\n",
        "\n",
        "### Did you use any tools (like ChatGPT) to solve the issues? What are the challenges and opportunities?\n",
        "\n",
        "\n",
        "\n",
        "### After this exercise, are you feeling excited to learn more?\n",
        "\n",
        "\n",
        "''''''I didnt face much challenges except figuring out the syntax on python. Im familiar with Java a lot. By reading the additional notes you provided, I overcame them. I didnt use any other resources as Im somewhat familiar with python but\n",
        " i feel i need to learn about it more . I didnt use chatgpt for code but when I was confused on what Question 5 was asking, I used chatgpt to help me understand the question, but not for the code, cause I don’t cheat. Im definitely feeling excited to learn more '''\n",
        "\n",
        "\n",
        "\n",
        "NOTE: Save the file with your code and text answers before committing it to your new GitHub public repository. Send a link to your file on Github to the TA."
      ],
      "metadata": {
        "id": "gnnYEjdqhh7f"
      }
    }
  ]
}