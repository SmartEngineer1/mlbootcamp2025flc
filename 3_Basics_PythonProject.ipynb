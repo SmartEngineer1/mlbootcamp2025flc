{
  "nbformat": 4,
  "nbformat_minor": 0,
  "metadata": {
    "colab": {
      "provenance": [],
      "authorship_tag": "ABX9TyMoSd/C/4K2uU1msbrbKsMn",
      "include_colab_link": true
    },
    "kernelspec": {
      "name": "python3",
      "display_name": "Python 3"
    },
    "language_info": {
      "name": "python"
    }
  },
  "cells": [
    {
      "cell_type": "markdown",
      "metadata": {
        "id": "view-in-github",
        "colab_type": "text"
      },
      "source": [
        "<a href=\"https://colab.research.google.com/github/shashankbl/mlbootcamp2025flc/blob/main/3_Basics_PythonProject.ipynb\" target=\"_parent\"><img src=\"https://colab.research.google.com/assets/colab-badge.svg\" alt=\"Open In Colab\"/></a>"
      ]
    },
    {
      "cell_type": "markdown",
      "source": [
        "# Digital Grocery Basket\n",
        "\n",
        "Create a simple digital grocery basket using which a grocer can process check-out at a grocery store and generate a receipt:\n",
        "- Add items to the basket.\n",
        "- Remove items from the basket.\n",
        "- Update the quantity of items in the basket.\n",
        "- Display the current basket contents.\n",
        "- Save and load the basket data using JSON for persistence.\n",
        "- Once all the items are added, display a receipt of the purchase.\n",
        "- Track transactions and manage inventory\n"
      ],
      "metadata": {
        "id": "5H0qdWVYGpju"
      }
    },
    {
      "cell_type": "code",
      "source": [
        "import json\n",
        "import pandas as pd\n",
        "import requests\n",
        "from IPython.display import display # Import display"
      ],
      "metadata": {
        "id": "KYDvvXAyKS3G"
      },
      "execution_count": null,
      "outputs": []
    },
    {
      "cell_type": "code",
      "source": [
        "# Fetch the JSON data from the URL\n",
        "url = 'https://raw.githubusercontent.com/shashankbl/mlbootcamp2025flc/main/extras/grocery_inventory.json'  # Use 'raw.githubusercontent.com'\n",
        "try:\n",
        "    response = requests.get(url)\n",
        "    response.raise_for_status()  # Raise an exception for bad status codes\n",
        "    data = response.json()\n",
        "except requests.exceptions.RequestException as e:\n",
        "    print(f\"Error fetching JSON from URL: {e}\")\n",
        "    data = {}  # Initialize as empty dictionary in case of error\n",
        "\n",
        "# Convert the JSON data to a Pandas DataFrame\n",
        "try:\n",
        "    df = pd.DataFrame(data)\n",
        "\n",
        "    # Display the DataFrame using display() for pretty print\n",
        "    display(df)\n",
        "\n",
        "    # Display the DataFrame as a CSV\n",
        "    # print(df.to_csv(index=False))\n",
        "except (ValueError, KeyError) as e:\n",
        "    print(f\"Error converting JSON to DataFrame: {e}\")\n",
        "    if data:\n",
        "        print(\"JSON data loaded but could not be formatted as a table\")"
      ],
      "metadata": {
        "id": "L7z3JpNqKznt"
      },
      "execution_count": null,
      "outputs": []
    }
  ]
}